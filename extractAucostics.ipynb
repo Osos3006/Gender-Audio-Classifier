{
 "cells": [
  {
   "cell_type": "code",
   "execution_count": 5,
   "metadata": {},
   "outputs": [],
   "source": [
    "\n",
    "\n",
    "\n",
    "get_features <- function(X, bp = c(0,22), wl = 2048, threshold = 5, parallel = 1)\n",
    "{\n",
    "  if(class(X) == \"data.frame\") {\n",
    "  if(all(c(\"sound.files\", \"selec\", \"start\", \"end\") %in% colnames(X))) \n",
    "  {\n",
    "    start <- as.numeric(unlist(X$start))\n",
    "    end <- as.numeric(unlist(X$end))\n",
    "    sound.files <- as.character(unlist(X$sound.files))\n",
    "    selec <- as.character(unlist(X$selec))\n",
    "  }\n",
    "  else stop(paste(paste(c(\"sound.files\", \"selec\", \"start\", \"end\")[!(c(\"sound.files\", \"selec\", \"start\", \"end\") %in% colnames(X))], collapse=\", \"), \" Error in data frame\"))\n",
    "  }\n",
    "  else  stop(\"Data Frame Error\")\n",
    "  \n",
    "fs <- list.files(path = getwd(), pattern = \".wav$\", ignore.case = TRUE)\n",
    "  if(length(unique(sound.files[(sound.files %in% fs)])) != length(unique(sound.files))) \n",
    "    cat(paste(length(unique(sound.files))-length(unique(sound.files[(sound.files %in% fs)])), \n",
    "              \".wav file(s) not found\"))\n",
    "  \n",
    "  d <- which(sound.files %in% fs) \n",
    "  if(length(d) == 0){\n",
    "    stop(\"wav file not found in dir.\")\n",
    "  }  else {\n",
    "    start <- start[d]\n",
    "    end <- end[d]\n",
    "    selec <- selec[d]\n",
    "    sound.files <- sound.files[d]\n",
    "  }\n",
    "  \n",
    "      # If parallel is not numeric\n",
    "  if(!is.numeric(parallel)) stop(\"'parallel' must be a numeric vector of length 1\") \n",
    "  if(any(!(parallel %% 1 == 0),parallel < 1)) stop(\"'parallel' should be a positive integer\")\n",
    "  \n",
    "  # If parallel was called\n",
    "  if(parallel > 1)\n",
    "  { options(warn = -1)\n",
    "    if(all(Sys.info()[1] == \"Windows\",requireNamespace(\"parallelsugar\", quietly = TRUE) == TRUE)) \n",
    "      lapp <- function(X, FUN) parallelsugar::mclapply(X, FUN, mc.cores = parallel) else\n",
    "        if(Sys.info()[1] == \"Windows\"){ \n",
    "          cat(\"Windows users need to install the 'parallelsugar' package for parallel computing (you are not doing it now!)\")\n",
    "          lapp <- pbapply::pblapply} else lapp <- function(X, FUN) parallel::mclapply(X, FUN, mc.cores = parallel)} else lapp <- pbapply::pblapply\n",
    "  \n",
    "  options(warn = 0)\n",
    " \n",
    "  if(parallel == 1) cat(\"Getting params\")\n",
    "  \n",
    "  x <- as.data.frame(lapp(1:length(start), function(i) { \n",
    "  \n",
    "    r <- tuneR::readWave(file.path(getwd(), sound.files[i]), from = start[i], to = end[i], units = \"seconds\") \n",
    "    \n",
    "    b<- bp \n",
    "    \n",
    "    if(b[2] > ceiling(r@samp.rate/2000) - 1)\n",
    "                    b[2] <- ceiling(r@samp.rate/2000) - 1 \n",
    "    \n",
    "    \n",
    "    #get  freq spectrum \n",
    "    \n",
    "    songspec <- seewave::spec(r, f = r@samp.rate, plot = TRUE)\n",
    "    analysis <- seewave::specprop(songspec, f = r@samp.rate, flim = c(0, 280/1000), plot = TRUE)\n",
    "    \n",
    "    \n",
    "    # the required papameters (meanfreq, median, Q25, etc. They are all returns of the function specprop)\n",
    "    \n",
    "    meanfreq <- analysis$mean/1000\n",
    "    sd <- analysis$sd/1000\n",
    "    median <- analysis$median/1000\n",
    "    Q25 <- analysis$Q25/1000\n",
    "    Q75 <- analysis$Q75/1000\n",
    "    IQR <- analysis$IQR/1000\n",
    "    skew <- analysis$skewness\n",
    "    kurt <- analysis$kurtosis\n",
    "    sp.ent <- analysis$sh\n",
    "    sfm <- analysis$sfm\n",
    "    mode <- analysis$mode/1000\n",
    "    centroid <- analysis$cent/1000\n",
    "    \n",
    "\n",
    "\n",
    "    peakf <- 0\n",
    "    \n",
    "    # Get Fundamental frequency \n",
    "    ff <- seewave::fund(r, f = r@samp.rate, ovlp = 50, threshold = threshold, fmax = 280, ylim=c(0, 280/1000), plot = FALSE, wl = wl)[, 2]\n",
    "   \n",
    "    meanfun<-mean(ff, na.rm = T)\n",
    "    minfun<-min(ff, na.rm = T)\n",
    "    maxfun<-max(ff, na.rm = T)\n",
    "    \n",
    "    #Get Dominant frecuency \n",
    "    y <- seewave::dfreq(r, f = r@samp.rate, wl = wl, ylim=c(0, 280/1000), ovlp = 0, plot = F, threshold = threshold, bandpass = b * 1000, fftw = TRUE)[, 2]\n",
    "    \n",
    "    meandom <- mean(y, na.rm = TRUE)\n",
    "    mindom <- min(y, na.rm = TRUE)\n",
    "    maxdom <- max(y, na.rm = TRUE)\n",
    "    dfrange <- (maxdom - mindom)\n",
    "    duration <- (end[i] - start[i])\n",
    "    \n",
    "    #get modulation index \n",
    "    changes <- vector()\n",
    "    for(j in which(!is.na(y))){\n",
    "      change <- abs(y[j] - y[j + 1])\n",
    "      changes <- append(changes, change)\n",
    "    }\n",
    "    if(mindom==maxdom) modindx<-0 else modindx <- mean(changes, na.rm = T)/dfrange\n",
    "    \n",
    "    \n",
    "    # save all features\n",
    "    return(c(duration, meanfreq, sd, median, Q25, Q75, IQR, skew, kurt, sp.ent, sfm, mode, \n",
    "             centroid, peakf, meanfun, minfun, maxfun, meandom, mindom, maxdom, dfrange, modindx))\n",
    "  }))\n",
    "  \n",
    "  # Rename columns to be similar to the features in the dataset used for training.\n",
    "  \n",
    "  rownames(x) <- c(\"duration\", \"meanfreq\", \"sd\", \"median\", \"Q25\", \"Q75\", \"IQR\", \"skew\", \"kurt\", \"sp.ent\", \n",
    "                   \"sfm\",\"mode\", \"centroid\", \"peakf\", \"meanfun\", \"minfun\", \"maxfun\", \"meandom\", \"mindom\", \"maxdom\", \"dfrange\", \"modindx\")\n",
    "  x <- data.frame(sound.files, selec, as.data.frame(t(x)))\n",
    "  \n",
    "  colnames(x)[1:2] <- c(\"sound.files\", \"selec\")\n",
    "  rownames(x) <- c(1:nrow(x))\n",
    "  \n",
    "  return(x)\n",
    "}\n",
    "\n",
    "#the code is inspired from a similar code @ https://github.com/PrathamSolanki/gender-recognition-by-voice/tree/master/Application\n",
    "\n"
   ]
  },
  {
   "cell_type": "code",
   "execution_count": 6,
   "metadata": {},
   "outputs": [
    {
     "name": "stdout",
     "output_type": "stream",
     "text": [
      "Getting params"
     ]
    },
    {
     "name": "stderr",
     "output_type": "stream",
     "text": [
      "Warning message in (0:(n - 1)) * f:\n",
      "\"NAs produced by integer overflow\""
     ]
    },
    {
     "data": {
      "image/png": "[encoded data removed]",
      "text/plain": [
       "plot without title"
      ]
     },
     "metadata": {},
     "output_type": "display_data"
    },
    {
     "data": {
      "image/png": "[encoded data removed]",
      "text/plain": [
       "plot without title"
      ]
     },
     "metadata": {},
     "output_type": "display_data"
    }
   ],
   "source": [
    "\n",
    "# main\n",
    "data = data.frame(\"brian.wav\", 0, 0, 20) # file name\n",
    "names(data) <- c('sound.files', 'selec', 'start', 'end')\n",
    "\n",
    "acoustics <- get_features(data)\n",
    "\n",
    "write.csv(acoustics, file = \"brian.csv\")"
   ]
  },
  {
   "cell_type": "code",
   "execution_count": null,
   "metadata": {},
   "outputs": [],
   "source": []
  }
 ],
 "metadata": {
  "kernelspec": {
   "display_name": "R",
   "language": "R",
   "name": "ir"
  },
  "language_info": {
   "codemirror_mode": "r",
   "file_extension": ".r",
   "mimetype": "text/x-r-source",
   "name": "R",
   "pygments_lexer": "r",
   "version": "3.6.1"
  }
 },
 "nbformat": 4,
 "nbformat_minor": 4
}