{
 "cells": [
  {
   "cell_type": "code",
   "execution_count": 1,
   "metadata": {},
   "outputs": [],
   "source": [
    "import tensorflow as tf\n",
    "import pandas as pd\n",
    "import numpy as np\n",
    "import pyaudio\n",
    "import wave\n",
    "import rpy2"
   ]
  },
  {
   "cell_type": "code",
   "execution_count": null,
   "metadata": {},
   "outputs": [],
   "source": [
    "#%load_ext rpy2.ipython"
   ]
  },
  {
   "cell_type": "code",
   "execution_count": 2,
   "metadata": {},
   "outputs": [],
   "source": [
    "\n",
    "model = tf.keras.models.load_model('model.h5')\n",
    "data = pd.read_csv('voice.csv')"
   ]
  },
  {
   "cell_type": "code",
   "execution_count": 3,
   "metadata": {},
   "outputs": [
    {
     "name": "stdout",
     "output_type": "stream",
     "text": [
      "if you want to record to get the result enter: 1\n",
      "if you want to use a prerecorded wav file enter: 2\n",
      "1\n"
     ]
    }
   ],
   "source": [
    "\n",
    "\n",
    "#data_female = pd.read_csv('Amy-Acoustics.csv')\n",
    "#data_female.drop(['sound.files', 'Unnamed: 0'], inplace=True, axis=1)\n",
    "#X2 = data_female[data.columns[:-1]].values\n",
    "#res = model.predict(X2)[0][0]\n",
    "#print(res)\n",
    "print(\"if you want to record to get the result enter: 1\")\n",
    "print(\"if you want to use a prerecorded wav file enter: 2\")\n",
    "n = input()\n",
    "n = int(n)"
   ]
  },
  {
   "cell_type": "code",
   "execution_count": 4,
   "metadata": {},
   "outputs": [
    {
     "name": "stdout",
     "output_type": "stream",
     "text": [
      "started recording for  5  seconds:\n",
      "Done recording !!\n"
     ]
    }
   ],
   "source": [
    "if (n == 1):\n",
    "    CHUNK = 1024\n",
    "    FORMAT = pyaudio.paInt16\n",
    "    CHANNELS = 2\n",
    "    RATE = 44100\n",
    "    RECORD_SECONDS = 5\n",
    "    WAVE_OUTPUT_FILENAME = \"output.wav\"\n",
    "\n",
    "    p = pyaudio.PyAudio()\n",
    "\n",
    "    stream = p.open(format=FORMAT,\n",
    "                    channels=CHANNELS,\n",
    "                    rate=RATE,\n",
    "                    input=True,\n",
    "                    frames_per_buffer=CHUNK)\n",
    "\n",
    "    print(\"started recording for \" ,RECORD_SECONDS , \" seconds:\")\n",
    "\n",
    "    frames = []\n",
    "\n",
    "    for i in range(0, int(RATE / CHUNK * RECORD_SECONDS)):\n",
    "        data = stream.read(CHUNK)\n",
    "        frames.append(data)\n",
    "\n",
    "    print(\"Done recording !!\")\n",
    "\n",
    "    stream.stop_stream()\n",
    "    stream.close()\n",
    "    p.terminate()\n",
    "\n",
    "    wf = wave.open(WAVE_OUTPUT_FILENAME, 'wb')\n",
    "    wf.setnchannels(CHANNELS)\n",
    "    wf.setsampwidth(p.get_sample_size(FORMAT))\n",
    "    wf.setframerate(RATE)\n",
    "    wf.writeframes(b''.join(frames))\n",
    "    wf.close()\n",
    "elif n == 2:\n",
    "    print(\"please enter the file name:\")\n",
    "    file_path = input()\n",
    "    data_test = pd.read_csv(file_path)\n",
    "    data_test.drop(['sound.files', 'Unnamed: 0'], inplace=True, axis=1)\n",
    "    X = data_test[data.columns[:-1]].values\n",
    "    res = model.predict(X)[0][0]\n",
    "    print(res)\n",
    "    if (res > 0.5):\n",
    "        print('You are a male !!')\n",
    "    else:\n",
    "        print(\"You are a female !!\")"
   ]
  },
  {
   "cell_type": "code",
   "execution_count": 8,
   "metadata": {},
   "outputs": [
    {
     "name": "stdout",
     "output_type": "stream",
     "text": [
      "please enter the file name:\n",
      "brain.csv\n",
      "0.93032044\n",
      "You are a male !!\n"
     ]
    }
   ],
   "source": [
    "data = pd.read_csv('voice.csv')\n",
    "print(\"please enter the file name:\")\n",
    "file_path = input()\n",
    "data_test = pd.read_csv(file_path)\n",
    "data_test.drop(['sound.files', 'Unnamed: 0'], inplace=True, axis=1)\n",
    "X = data_test[data.columns[:-1]].values\n",
    "res = model.predict(X)[0][0]\n",
    "print(res)\n",
    "if (res > 0.5):\n",
    "    print('You are a male !!')\n",
    "else:\n",
    "    print(\"You are a female !!\")\n"
   ]
  },
  {
   "cell_type": "code",
   "execution_count": null,
   "metadata": {},
   "outputs": [],
   "source": []
  }
 ],
 "metadata": {
  "kernelspec": {
   "display_name": "Python 3",
   "language": "python",
   "name": "python3"
  },
  "language_info": {
   "codemirror_mode": {
    "name": "ipython",
    "version": 3
   },
   "file_extension": ".py",
   "mimetype": "text/x-python",
   "name": "python",
   "nbconvert_exporter": "python",
   "pygments_lexer": "ipython3",
   "version": "3.8.5"
  }
 },
 "nbformat": 4,
 "nbformat_minor": 4
}
